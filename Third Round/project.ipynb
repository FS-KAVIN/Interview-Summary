{
  "nbformat": 4,
  "nbformat_minor": 0,
  "metadata": {
    "colab": {
      "provenance": []
    },
    "kernelspec": {
      "name": "python3",
      "display_name": "Python 3"
    },
    "language_info": {
      "name": "python"
    }
  },
  "cells": [
    {
      "cell_type": "code",
      "source": [
        "#DSjnt3-S_QE4wJ7Sm2qT5lrpLRWq8VjtPVf4Q0y3vqqsSDxo0fRwXQ\n",
        "#Qdrant api key"
      ],
      "metadata": {
        "id": "parWJ67vHrYK"
      },
      "execution_count": null,
      "outputs": []
    },
    {
      "cell_type": "code",
      "source": [
        "!pip install docx\n",
        "!pip install python-docx"
      ],
      "metadata": {
        "id": "FA14PBKg3-3L"
      },
      "execution_count": null,
      "outputs": []
    },
    {
      "cell_type": "code",
      "source": [
        "from docx import Document\n",
        "\n",
        "def extract_text_from_docx(docx_file):\n",
        "    doc = Document(docx_file)\n",
        "    text = []\n",
        "    for paragraph in doc.paragraphs:\n",
        "        text.append(paragraph.text)\n",
        "    return '\\n'.join(text)\n",
        "\n",
        "def save_text_to_txt(text, txt_file):\n",
        "    with open(txt_file, 'w', encoding='utf-8') as f:\n",
        "        f.write(text)\n",
        "\n",
        "docx_file = \"/resume.docx\"\n",
        "extracted_text = extract_text_from_docx(docx_file)\n",
        "\n",
        "txt_file = \"/content/extracted_text.txt\"\n",
        "save_text_to_txt(extracted_text, txt_file)\n"
      ],
      "metadata": {
        "id": "AArR3ttWRVdq"
      },
      "execution_count": 17,
      "outputs": []
    },
    {
      "cell_type": "code",
      "source": [
        "%pip install llama-index-llms-cohere\n",
        "%pip install llama-index-embeddings-cohere"
      ],
      "metadata": {
        "id": "Qzte3sEwd2FZ"
      },
      "execution_count": null,
      "outputs": []
    },
    {
      "cell_type": "code",
      "source": [
        "!pip install llama-index"
      ],
      "metadata": {
        "id": "BVXZZfQjebm7"
      },
      "execution_count": null,
      "outputs": []
    },
    {
      "cell_type": "code",
      "source": [
        "import os\n",
        "\n",
        "cohere_api_key = \"7qwDw4QaSTtgmf1JM2ycW5r71nFFE1yUKZI9S4nu\"\n",
        "os.environ[\"COHERE_API_KEY\"] = cohere_api_key"
      ],
      "metadata": {
        "id": "VOMgplgYfCpE"
      },
      "execution_count": 20,
      "outputs": []
    },
    {
      "cell_type": "code",
      "source": [
        "import logging\n",
        "import sys\n",
        "\n",
        "logging.basicConfig(stream=sys.stdout, level=logging.INFO)\n",
        "logging.getLogger().addHandler(logging.StreamHandler(stream=sys.stdout))\n",
        "\n",
        "from llama_index.core import VectorStoreIndex, SimpleDirectoryReader\n",
        "\n",
        "from llama_index.llms.cohere import Cohere\n",
        "from llama_index.core.response.notebook_utils import display_source_node\n",
        "\n",
        "from IPython.display import Markdown, display"
      ],
      "metadata": {
        "id": "RyhFH48mOn4e"
      },
      "execution_count": 21,
      "outputs": []
    },
    {
      "cell_type": "code",
      "source": [
        "!pip install docx2txt"
      ],
      "metadata": {
        "colab": {
          "base_uri": "https://localhost:8080/"
        },
        "id": "MWTHcu1_4q7u",
        "outputId": "c0cc0f40-2513-4ee2-b510-b7138cb18f10"
      },
      "execution_count": 22,
      "outputs": [
        {
          "output_type": "stream",
          "name": "stdout",
          "text": [
            "Collecting docx2txt\n",
            "  Downloading docx2txt-0.8.tar.gz (2.8 kB)\n",
            "  Preparing metadata (setup.py) ... \u001b[?25l\u001b[?25hdone\n",
            "Building wheels for collected packages: docx2txt\n",
            "  Building wheel for docx2txt (setup.py) ... \u001b[?25l\u001b[?25hdone\n",
            "  Created wheel for docx2txt: filename=docx2txt-0.8-py3-none-any.whl size=3960 sha256=749bb8fa9035c1dad66084ac32ce8f866427c3fe25242efcce3907c2fda03ded\n",
            "  Stored in directory: /root/.cache/pip/wheels/22/58/cf/093d0a6c3ecfdfc5f6ddd5524043b88e59a9a199cb02352966\n",
            "Successfully built docx2txt\n",
            "Installing collected packages: docx2txt\n",
            "Successfully installed docx2txt-0.8\n"
          ]
        }
      ]
    },
    {
      "cell_type": "code",
      "source": [
        "documents = SimpleDirectoryReader(\"/content\").load_data()"
      ],
      "metadata": {
        "id": "8xnQ_WsvOxVn"
      },
      "execution_count": 23,
      "outputs": []
    },
    {
      "cell_type": "code",
      "source": [
        "from llama_index.embeddings.cohere import CohereEmbedding"
      ],
      "metadata": {
        "id": "b49t05BSRWxQ"
      },
      "execution_count": 28,
      "outputs": []
    },
    {
      "cell_type": "code",
      "source": [
        "llm = Cohere(model=\"command-nightly\", api_key=cohere_api_key)\n",
        "embed_model = CohereEmbedding(\n",
        "    cohere_api_key=cohere_api_key,\n",
        "    model_name=\"embed-english-v3.0\",\n",
        "    input_type=\"search_document\",\n",
        "    embedding_type=\"float\",\n",
        ")\n",
        "\n",
        "index = VectorStoreIndex.from_documents(\n",
        "    documents=documents, embed_model=embed_model\n",
        ")"
      ],
      "metadata": {
        "id": "ruPhSBvVUrdh"
      },
      "execution_count": 29,
      "outputs": []
    },
    {
      "cell_type": "code",
      "source": [
        "embed_model = CohereEmbedding(\n",
        "    cohere_api_key=cohere_api_key,\n",
        "    model_name=\"embed-english-v3.0\",\n",
        "    input_type=\"search_query\",\n",
        "    embedding_type=\"float\",\n",
        ")\n",
        "\n",
        "search_query_retriever = index.as_retriever()\n",
        "\n",
        "search_query_retrieved_nodes = search_query_retriever.retrieve(\n",
        "    \"what is my email id ?\"\n",
        ")"
      ],
      "metadata": {
        "id": "80Y1dkf8VCcO"
      },
      "execution_count": 30,
      "outputs": []
    },
    {
      "cell_type": "code",
      "source": [
        "for n in search_query_retrieved_nodes:\n",
        "    display_source_node(n, source_length=2000)"
      ],
      "metadata": {
        "colab": {
          "base_uri": "https://localhost:8080/",
          "height": 419
        },
        "id": "Hyq9Jaw0VghI",
        "outputId": "9d33a5da-1860-425f-ebc9-9e7048ef5900"
      },
      "execution_count": 31,
      "outputs": [
        {
          "output_type": "display_data",
          "data": {
            "text/plain": [
              "<IPython.core.display.Markdown object>"
            ],
            "text/markdown": "**Node ID:** 2bb29592-fd9d-4a9b-9b5e-7ad271865a5f<br>**Similarity:** 0.18564598370921562<br>**Text:** Kavin Kumar  R\nVirudhunagar, 626204 | 7867951942\nkavinkumar31053@gmail.com\n\nTo secure an entry level position in any IT based company where I can \nuse my skills in the administration of facilities for the benefit of the \norganisation whilst improving my knowledge & experience.\n\nEDUCATION\nBachelor of Engineering (B.E.) - Electronics and Communication Engineering Aug 2019 - Jun 2023\nRamco Institute of Technology, Rajapalayam \nScored a gpa of 8.45.\n\nEXPERIENCE\nIntern\tDec 2023 - Present\nCognizant, Coimbatore \n\nSummer Intern\tJul 2022 - Aug 2022\nZoho, Tenkasi\n\nSKILLS\nSystem Administration, Python Programming, Java Programming, Networking, MySQL, Linux and Bash Scripting, Computer Literacy \n\nLICENSES & CERTIFICATIONS\nThe Complete Python Bootcamp from Zero to Hero in Python\t2023\nUdemy\n\nComplete CCNA (200 - 301) Master Class\t2022\nUdemy \n\nCertified Bug Bounty Hunter \t2021\nPrompt Infotech \n\nFundamentals of Red Hat Enterprise Linux\t2021\nCoursera - Red Hat Linux \n\nOperating Systems and You: Becoming a Power User\t2020\nGoogle \n\nBurp Suite: In Depth Survival Guide\t2020\nUdemy \n\n\n\nVOLUNTEER\nISTE CONVENTION\tFeb 2022 - Feb 2022\nISTE\nConducted various events and \n\nPals’ student leader\tJul 2021 - Aug 2022\nPALS\nConducted various events.<br>"
          },
          "metadata": {}
        }
      ]
    },
    {
      "cell_type": "code",
      "source": [
        "%pip install llama-index-vector-stores-qdrant llama-index-readers-file llama-index-embeddings-fastembed llama-index-llms-openai"
      ],
      "metadata": {
        "id": "jGIeYDUQqZeR"
      },
      "execution_count": null,
      "outputs": []
    },
    {
      "cell_type": "code",
      "source": [
        "import logging\n",
        "import sys\n",
        "import os\n",
        "\n",
        "import qdrant_client\n",
        "from IPython.display import Markdown, display\n",
        "from llama_index.core import VectorStoreIndex, SimpleDirectoryReader\n",
        "from llama_index.core import StorageContext\n",
        "from llama_index.vector_stores.qdrant import QdrantVectorStore\n",
        "from llama_index.embeddings.fastembed import FastEmbedEmbedding\n",
        "from llama_index.core import Settings\n",
        "\n",
        "Settings.embed_model = FastEmbedEmbedding(model_name=\"BAAI/bge-base-en-v1.5\")"
      ],
      "metadata": {
        "id": "zhGUvYxWqNTL"
      },
      "execution_count": null,
      "outputs": []
    },
    {
      "cell_type": "code",
      "source": [
        "!pip install -U qdrant_client fastembed"
      ],
      "metadata": {
        "id": "oKO5GZjArBC6"
      },
      "execution_count": null,
      "outputs": []
    },
    {
      "cell_type": "code",
      "source": [
        "client = qdrant_client.QdrantClient(\n",
        "    # you can use :memory: mode for fast and light-weight experiments,\n",
        "    # it does not require to have Qdrant deployed anywhere\n",
        "    # but requires qdrant-client >= 1.1.1\n",
        "    location=\":memory:\",\n",
        "    # otherwise set Qdrant instance address with:\n",
        "    #uri=\"https://aa219f36-07aa-42d6-aa21-6299a628e65a.us-east4-0.gcp.cloud.qdrant.io\",\n",
        "    # set API KEY for Qdrant Cloud\n",
        "    api_key=\"DSjnt3-S_QE4wJ7Sm2qT5lrpLRWq8VjtPVf4Q0y3vqqsSDxo0fRwXQ\",\n",
        ")"
      ],
      "metadata": {
        "id": "UMonNTldrWYt"
      },
      "execution_count": null,
      "outputs": []
    },
    {
      "cell_type": "code",
      "source": [
        "vector_store = QdrantVectorStore(client=client, collection_name=\"Resume\")\n",
        "storage_context = StorageContext.from_defaults(vector_store=vector_store)\n",
        "index = VectorStoreIndex.from_documents(\n",
        "    documents,\n",
        "    storage_context=storage_context,\n",
        ")"
      ],
      "metadata": {
        "id": "RL8yr_K_rYVJ"
      },
      "execution_count": null,
      "outputs": []
    },
    {
      "cell_type": "code",
      "source": [
        "# set Logging to DEBUG for more detailed outputs\n",
        "query_engine = index.as_query_engine()\n",
        "response = query_engine.query(\"What are the skills?\")"
      ],
      "metadata": {
        "id": "cxEbc9zlr6Fm",
        "colab": {
          "base_uri": "https://localhost:8080/",
          "height": 176
        },
        "outputId": "01a744a6-5cee-442d-9be2-749e129c6b76"
      },
      "execution_count": null,
      "outputs": [
        {
          "output_type": "error",
          "ename": "NameError",
          "evalue": "name 'index' is not defined",
          "traceback": [
            "\u001b[0;31m---------------------------------------------------------------------------\u001b[0m",
            "\u001b[0;31mNameError\u001b[0m                                 Traceback (most recent call last)",
            "\u001b[0;32m<ipython-input-8-f550af53981b>\u001b[0m in \u001b[0;36m<cell line: 2>\u001b[0;34m()\u001b[0m\n\u001b[1;32m      1\u001b[0m \u001b[0;31m# set Logging to DEBUG for more detailed outputs\u001b[0m\u001b[0;34m\u001b[0m\u001b[0;34m\u001b[0m\u001b[0m\n\u001b[0;32m----> 2\u001b[0;31m \u001b[0mquery_engine\u001b[0m \u001b[0;34m=\u001b[0m \u001b[0mindex\u001b[0m\u001b[0;34m.\u001b[0m\u001b[0mas_query_engine\u001b[0m\u001b[0;34m(\u001b[0m\u001b[0;34m)\u001b[0m\u001b[0;34m\u001b[0m\u001b[0;34m\u001b[0m\u001b[0m\n\u001b[0m\u001b[1;32m      3\u001b[0m \u001b[0mresponse\u001b[0m \u001b[0;34m=\u001b[0m \u001b[0mquery_engine\u001b[0m\u001b[0;34m.\u001b[0m\u001b[0mquery\u001b[0m\u001b[0;34m(\u001b[0m\u001b[0;34m\"What are the skills?\"\u001b[0m\u001b[0;34m)\u001b[0m\u001b[0;34m\u001b[0m\u001b[0;34m\u001b[0m\u001b[0m\n",
            "\u001b[0;31mNameError\u001b[0m: name 'index' is not defined"
          ]
        }
      ]
    }
  ]
}